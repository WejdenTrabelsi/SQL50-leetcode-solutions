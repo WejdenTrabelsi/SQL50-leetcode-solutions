{
 "cells": [
  {
   "cell_type": "markdown",
   "metadata": {},
   "source": [
    "<h1>SQL50 Study Plan Solutions </h1>"
   ]
  },
  {
   "cell_type": "markdown",
   "metadata": {},
   "source": [
    "<h2>SELECT</h2>"
   ]
  },
  {
   "cell_type": "markdown",
   "metadata": {},
   "source": [
    "# Write your MySQL query statement below\n",
    "select tweet_id from Tweets \n",
    "where length(content) > 15"
   ]
  },
  {
   "cell_type": "markdown",
   "metadata": {},
   "source": [
    "# Write your MySQL query statement below\n",
    "select name from Customer \n",
    "where referee_id <> 2 or referee_id is null"
   ]
  },
  {
   "cell_type": "markdown",
   "metadata": {},
   "source": [
    "# Write your MySQL query statement below\n",
    "select name, population, area from World \n",
    "where area >= 3000000 or population >= 25000000"
   ]
  },
  {
   "cell_type": "markdown",
   "metadata": {},
   "source": [
    "# Write your MySQL query statement belowmu_\n",
    "select distinct (author_id) as id from Views \n",
    "where viewer_id = author_id \n",
    "order by author_id "
   ]
  },
  {
   "cell_type": "markdown",
   "metadata": {},
   "source": [
    "# Write your MySQL query statement below\n",
    "select tweet_id from Tweets \n",
    "where length(content) > 15"
   ]
  }
 ],
 "metadata": {
  "language_info": {
   "name": "python"
  }
 },
 "nbformat": 4,
 "nbformat_minor": 2
}
